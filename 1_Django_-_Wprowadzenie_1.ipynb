{
 "cells": [
  {
   "cell_type": "markdown",
   "id": "631e9c2e",
   "metadata": {
    "slideshow": {
     "slide_type": "slide"
    }
   },
   "source": [
    "# Django - Wprowadzenie 1\n",
    "*[Mikołaj Leszczuk](mailto:mikolaj.leszczuk@agh.edu.pl), [Agnieszka Rudnicka](mailto:rudnicka@agh.edu.pl)*"
   ]
  },
  {
   "cell_type": "markdown",
   "id": "e26d559c",
   "metadata": {
    "slideshow": {
     "slide_type": "fragment"
    }
   },
   "source": [
    "* Czym jest Django?\n",
    "* Przygotowanie środowiska\n",
    "  * Tworzenie środowiska wirtualnego\n",
    "  * Instalowanie bibliotek/zależności"
   ]
  },
  {
   "cell_type": "markdown",
   "id": "bf30e700",
   "metadata": {
    "slideshow": {
     "slide_type": "slide"
    }
   },
   "source": [
    "## Czym jest Django?"
   ]
  },
  {
   "cell_type": "markdown",
   "id": "0aa86761",
   "metadata": {
    "slideshow": {
     "slide_type": "fragment"
    }
   },
   "source": [
    "**Django** to darmowy i open source'owy framework do budowania aplikacji webowych napisany w Pythonie. Innymi słowy to zestaw narzędzi, który przyśpiesza i ułatwia znacząco proces tworzenia stron."
   ]
  },
  {
   "cell_type": "markdown",
   "id": "d49afcb5",
   "metadata": {
    "slideshow": {
     "slide_type": "subslide"
    }
   },
   "source": [
    "Gdy tworzymy strony internetowe, wiele elementów się powtarza między projektami. Są to przykładowo mechanizmy tworzenia, zarządzania i uwierzytelniania użytkowników, panel zarzadzania treścią czy też mechanizmy wyświetlania i przetwarzania formularzy. Django wychodzi na przeciw tym powtarzającym się wyzwaniom oferując między innymi:"
   ]
  },
  {
   "cell_type": "markdown",
   "id": "90834c0d",
   "metadata": {
    "slideshow": {
     "slide_type": "fragment"
    }
   },
   "source": [
    "* gotowy system tworzenia, rejestracji i logowania użytkowników"
   ]
  },
  {
   "cell_type": "markdown",
   "id": "4c48e114",
   "metadata": {
    "slideshow": {
     "slide_type": "fragment"
    }
   },
   "source": [
    "* gotowy system grup i uprawnień do modeli"
   ]
  },
  {
   "cell_type": "markdown",
   "id": "1e7e524b",
   "metadata": {
    "slideshow": {
     "slide_type": "fragment"
    }
   },
   "source": [
    "* mini-framework do tworzenia i przetwarzania formularzy (`django.contrib.forms`)"
   ]
  },
  {
   "cell_type": "markdown",
   "id": "64376663",
   "metadata": {
    "slideshow": {
     "slide_type": "fragment"
    }
   },
   "source": [
    "* auto-generowany panel administracyjny"
   ]
  },
  {
   "cell_type": "markdown",
   "id": "accfdcef",
   "metadata": {
    "slideshow": {
     "slide_type": "subslide"
    }
   },
   "source": [
    "* gotowe klasy (Class Based Views) na podstawie których można w kilka linijek kodu tworzyć pełnoprawne widoki CRUD (ang. *Create Read Update Delete*)"
   ]
  },
  {
   "cell_type": "markdown",
   "id": "807c109f",
   "metadata": {
    "slideshow": {
     "slide_type": "fragment"
    }
   },
   "source": [
    "* potężny ORM (ang. *Object Relational Mapping*), czyli narzędzie do operowania na danych w bazach danych bez potrzeby użycia SQL (ang. *Structured Query Language*)"
   ]
  },
  {
   "cell_type": "markdown",
   "id": "8935f5b2",
   "metadata": {
    "slideshow": {
     "slide_type": "fragment"
    }
   },
   "source": [
    "* wbudowane mechanizmy cachowania, wysyłania maili"
   ]
  },
  {
   "cell_type": "markdown",
   "id": "1a3764a9",
   "metadata": {
    "slideshow": {
     "slide_type": "fragment"
    }
   },
   "source": [
    "* ...i wiele innych"
   ]
  },
  {
   "cell_type": "markdown",
   "id": "ede17e66",
   "metadata": {
    "slideshow": {
     "slide_type": "slide"
    }
   },
   "source": [
    "## Przygotowanie środowiska"
   ]
  },
  {
   "cell_type": "markdown",
   "id": "b8d88169",
   "metadata": {
    "slideshow": {
     "slide_type": "fragment"
    }
   },
   "source": [
    "Aby rozpocząć pracę z projektem utwórzmy nowy katalog (wcześniej na wszelki wypadek \"sprzątając\")."
   ]
  },
  {
   "cell_type": "markdown",
   "id": "30c2cb7b",
   "metadata": {
    "slideshow": {
     "slide_type": "fragment"
    }
   },
   "source": [
    "Można to zrobić poleceniem:"
   ]
  },
  {
   "cell_type": "code",
   "execution_count": 33,
   "id": "b7a9c845",
   "metadata": {
    "slideshow": {
     "slide_type": "-"
    }
   },
   "outputs": [
    {
     "name": "stdout",
     "output_type": "stream",
     "text": [
      "rm: manage.py: No such file or directory\r\n",
      "rm: movies: No such file or directory\r\n",
      "rm: db.sqlite3: No such file or directory\r\n"
     ]
    }
   ],
   "source": [
    "!rm -r manage.py goodmovies movies db.sqlite3 venv\n",
    "!mkdir goodmovies"
   ]
  },
  {
   "cell_type": "markdown",
   "id": "6fd6ff3d",
   "metadata": {
    "slideshow": {
     "slide_type": "subslide"
    }
   },
   "source": [
    "Sprawdźmy, czy mamy poprawnie zainstalowany język Python w wersji 3 poleceniem w terminalu. Naszym oczom powinno się ukazać coś takiego:"
   ]
  },
  {
   "cell_type": "code",
   "execution_count": 34,
   "id": "b7da4234",
   "metadata": {
    "slideshow": {
     "slide_type": "fragment"
    }
   },
   "outputs": [
    {
     "name": "stdout",
     "output_type": "stream",
     "text": [
      "Python 3.11.3\r\n"
     ]
    }
   ],
   "source": [
    "!python3 -V"
   ]
  },
  {
   "cell_type": "markdown",
   "id": "44016111",
   "metadata": {
    "slideshow": {
     "slide_type": "fragment"
    }
   },
   "source": [
    "W przypadku systemów opartych o jądro UNIX może być potrzeba wpisać `python3 -V`, ponieważ samo `polecenie` python może być linkowane do starszego interpretera (np.: 2.7)."
   ]
  },
  {
   "cell_type": "markdown",
   "id": "2814c482",
   "metadata": {
    "slideshow": {
     "slide_type": "slide"
    }
   },
   "source": [
    "### Tworzenie środowiska wirtualnego"
   ]
  },
  {
   "cell_type": "markdown",
   "id": "fc324c86",
   "metadata": {
    "slideshow": {
     "slide_type": "fragment"
    }
   },
   "source": [
    "Django jak wiele innych narzędzie jest swego rodzaju dodatkiem/pakietem dodatkowym, który nie jest zainstalowany wraz z podstawowym interpreterem języka Python."
   ]
  },
  {
   "cell_type": "markdown",
   "id": "604756fd",
   "metadata": {
    "slideshow": {
     "slide_type": "fragment"
    }
   },
   "source": [
    "Standardową procedurą przy rozpoczynaniu każdego projektu jest stworzenie \"wirtualnego środowiska\" (ang. _virtual environment_ - `venv`) w którym znajdzie się kopia interpretera wraz z wszystkim doinstalowanymi dodatkowymi bibliotekami danego projektu."
   ]
  },
  {
   "cell_type": "markdown",
   "id": "81a9d056",
   "metadata": {
    "slideshow": {
     "slide_type": "subslide"
    }
   },
   "source": [
    "Aby stworzyć wirtualne środowisko należy wykonać polecenie:"
   ]
  },
  {
   "cell_type": "markdown",
   "id": "c00a939d",
   "metadata": {
    "slideshow": {
     "slide_type": "fragment"
    }
   },
   "source": [
    "```sh\n",
    "python3 -m venv moje_srodowisko\n",
    "# lub krócej\n",
    "python3 -m venv venv\n",
    "```"
   ]
  },
  {
   "cell_type": "markdown",
   "id": "48b95586",
   "metadata": {
    "slideshow": {
     "slide_type": "fragment"
    }
   },
   "source": [
    "Powyższe polecenie stworzy w bieżącym katalogu lokalną instalację Pythona w katalogu `moje_srodowisko` albo `venv` zależnie od tego które polecenie postanowimy wykonać. Polecam to krótsze, pierwsze ma jedynie charakter demonstracyjny."
   ]
  },
  {
   "cell_type": "code",
   "execution_count": 35,
   "id": "f3e80090",
   "metadata": {
    "slideshow": {
     "slide_type": "fragment"
    }
   },
   "outputs": [],
   "source": [
    "!python3 -m venv venv"
   ]
  },
  {
   "cell_type": "markdown",
   "id": "711b7125",
   "metadata": {
    "slideshow": {
     "slide_type": "subslide"
    }
   },
   "source": [
    "Teraz musimy aktywować środowisko wirtualne. Jeśli używamy IDE takiego jak PyCharm lub VSCode, prawdopodobnie zostanie ono automatycznie aktywowane."
   ]
  },
  {
   "cell_type": "markdown",
   "id": "149b6178",
   "metadata": {
    "slideshow": {
     "slide_type": "fragment"
    }
   },
   "source": [
    "Aby jednak ręcznie aktywować środowisko - np. gdy nie używamy IDE należy wykonać poniższe polecenie:"
   ]
  },
  {
   "cell_type": "markdown",
   "id": "e3448a65",
   "metadata": {
    "slideshow": {
     "slide_type": "fragment"
    }
   },
   "source": [
    "```sh\n",
    "# windows:\n",
    "venv\\Scripts\\activate.bat\n",
    "```\n",
    "```sh\n",
    "# unix:\n",
    "source venv/bin/activate\n",
    "```"
   ]
  },
  {
   "cell_type": "code",
   "execution_count": 36,
   "id": "0833eea8",
   "metadata": {
    "slideshow": {
     "slide_type": "fragment"
    }
   },
   "outputs": [],
   "source": [
    "!source venv/bin/activate"
   ]
  },
  {
   "cell_type": "markdown",
   "id": "3054298c",
   "metadata": {
    "slideshow": {
     "slide_type": "subslide"
    }
   },
   "source": [
    "O aktywacji dowiemy się widząc w nazwę środowiska wirtualnego w nawiasach:"
   ]
  },
  {
   "cell_type": "markdown",
   "id": "d86d26a0",
   "metadata": {
    "slideshow": {
     "slide_type": "fragment"
    }
   },
   "source": [
    "```sh\n",
    "(venv)\n",
    "```"
   ]
  },
  {
   "cell_type": "markdown",
   "id": "9641f8ff",
   "metadata": {
    "slideshow": {
     "slide_type": "fragment"
    }
   },
   "source": [
    "Chodzi oczywiście o nazwę środowiska `(venv)`, która to normalnie się nie pokazuje."
   ]
  },
  {
   "cell_type": "markdown",
   "id": "65644d66",
   "metadata": {
    "slideshow": {
     "slide_type": "slide"
    }
   },
   "source": [
    "### Instalowanie bibliotek/zależności"
   ]
  },
  {
   "cell_type": "markdown",
   "id": "3a405a1e",
   "metadata": {
    "slideshow": {
     "slide_type": "fragment"
    }
   },
   "source": [
    "Na wstępnie upewnijmy się, że mamy najnowszą wersję `pip`:"
   ]
  },
  {
   "cell_type": "code",
   "execution_count": 37,
   "id": "51676d18",
   "metadata": {
    "slideshow": {
     "slide_type": "fragment"
    }
   },
   "outputs": [
    {
     "name": "stdout",
     "output_type": "stream",
     "text": [
      "Requirement already satisfied: pip in /Library/Frameworks/Python.framework/Versions/3.11/lib/python3.11/site-packages (23.1.2)\n",
      "Note: you may need to restart the kernel to use updated packages.\n"
     ]
    }
   ],
   "source": [
    "pip install --upgrade pip"
   ]
  },
  {
   "cell_type": "markdown",
   "id": "945d5814",
   "metadata": {
    "slideshow": {
     "slide_type": "subslide"
    }
   },
   "source": [
    "A teraz właściwa część przygotowania środowiska - czyli instalujemy framework Django:"
   ]
  },
  {
   "cell_type": "code",
   "execution_count": 38,
   "id": "caf00518",
   "metadata": {
    "slideshow": {
     "slide_type": "fragment"
    }
   },
   "outputs": [
    {
     "name": "stdout",
     "output_type": "stream",
     "text": [
      "Requirement already satisfied: Django>=4.2.1 in /Library/Frameworks/Python.framework/Versions/3.11/lib/python3.11/site-packages (4.2.1)\n",
      "Requirement already satisfied: asgiref<4,>=3.6.0 in /Library/Frameworks/Python.framework/Versions/3.11/lib/python3.11/site-packages (from Django>=4.2.1) (3.6.0)\n",
      "Requirement already satisfied: sqlparse>=0.3.1 in /Library/Frameworks/Python.framework/Versions/3.11/lib/python3.11/site-packages (from Django>=4.2.1) (0.4.4)\n",
      "Note: you may need to restart the kernel to use updated packages.\n"
     ]
    }
   ],
   "source": [
    "pip install \"Django>=4.2.1\""
   ]
  },
  {
   "cell_type": "markdown",
   "id": "d4fa2a8e",
   "metadata": {
    "slideshow": {
     "slide_type": "subslide"
    }
   },
   "source": [
    "Po wykonaniu powyższego polecenia możemy sprawdzić aktualnie zainstalowane pakiety poleceniem `pip list`. U mnie lista wygląda tak:"
   ]
  },
  {
   "cell_type": "code",
   "execution_count": 39,
   "id": "7d2e8a63",
   "metadata": {
    "slideshow": {
     "slide_type": "fragment"
    }
   },
   "outputs": [
    {
     "name": "stdout",
     "output_type": "stream",
     "text": [
      "Package                  Version\n",
      "------------------------ ---------\n",
      "anyio                    3.6.2\n",
      "appnope                  0.1.3\n",
      "argon2-cffi              21.3.0\n",
      "argon2-cffi-bindings     21.2.0\n",
      "arrow                    1.2.3\n",
      "asgiref                  3.6.0\n",
      "asttokens                2.2.1\n",
      "attrs                    22.2.0\n",
      "backcall                 0.2.0\n",
      "beautifulsoup4           4.12.1\n",
      "bleach                   6.0.0\n",
      "certifi                  2022.12.7\n",
      "cffi                     1.15.1\n",
      "charset-normalizer       3.1.0\n",
      "comm                     0.1.3\n",
      "debugpy                  1.6.7\n",
      "decorator                5.1.1\n",
      "defusedxml               0.7.1\n",
      "Django                   4.2.1\n",
      "executing                1.2.0\n",
      "fastjsonschema           2.16.3\n",
      "fqdn                     1.5.1\n",
      "idna                     3.4\n",
      "ipykernel                6.22.0\n",
      "ipython                  8.12.0\n",
      "ipython-genutils         0.2.0\n",
      "ipywidgets               8.0.6\n",
      "isoduration              20.11.0\n",
      "jedi                     0.18.2\n",
      "Jinja2                   3.1.2\n",
      "jsonpointer              2.3\n",
      "jsonschema               4.17.3\n",
      "jupyter                  1.0.0\n",
      "jupyter_client           8.1.0\n",
      "jupyter-console          6.6.3\n",
      "jupyter_core             5.3.0\n",
      "jupyter-events           0.6.3\n",
      "jupyter_server           2.5.0\n",
      "jupyter_server_terminals 0.4.4\n",
      "jupyterlab-pygments      0.2.2\n",
      "jupyterlab-widgets       3.0.7\n",
      "MarkupSafe               2.1.2\n",
      "matplotlib-inline        0.1.6\n",
      "mistune                  2.0.5\n",
      "nbclassic                0.5.5\n",
      "nbclient                 0.7.3\n",
      "nbconvert                7.3.0\n",
      "nbformat                 5.8.0\n",
      "nest-asyncio             1.5.6\n",
      "notebook                 6.5.4\n",
      "notebook_shim            0.2.2\n",
      "numpy                    1.24.1\n",
      "opencv-python            4.7.0.68\n",
      "packaging                23.0\n",
      "Panda3D                  1.10.13\n",
      "panda3d-gltf             0.13\n",
      "panda3d-simplepbr        0.10\n",
      "pandocfilters            1.5.0\n",
      "parso                    0.8.3\n",
      "pexpect                  4.8.0\n",
      "pickleshare              0.7.5\n",
      "pip                      23.1.2\n",
      "platformdirs             3.2.0\n",
      "prometheus-client        0.16.0\n",
      "prompt-toolkit           3.0.38\n",
      "psutil                   5.9.4\n",
      "ptyprocess               0.7.0\n",
      "pure-eval                0.2.2\n",
      "pycparser                2.21\n",
      "Pygments                 2.14.0\n",
      "pyrsistent               0.19.3\n",
      "python-dateutil          2.8.2\n",
      "python-json-logger       2.0.7\n",
      "pytz                     2022.7\n",
      "PyYAML                   6.0\n",
      "pyzmq                    25.0.2\n",
      "qtconsole                5.4.2\n",
      "QtPy                     2.3.1\n",
      "requests                 2.29.0\n",
      "rfc3339-validator        0.1.4\n",
      "rfc3986-validator        0.1.1\n",
      "rise                     5.7.1\n",
      "Send2Trash               1.8.0\n",
      "setuptools               65.6.3\n",
      "six                      1.16.0\n",
      "slicerator               1.1.0\n",
      "sniffio                  1.3.0\n",
      "soupsieve                2.4\n",
      "sqlparse                 0.4.4\n",
      "stack-data               0.6.2\n",
      "terminado                0.17.1\n",
      "tinycss2                 1.2.1\n",
      "tornado                  6.2\n",
      "traitlets                5.9.0\n",
      "uri-template             1.2.0\n",
      "urllib3                  1.26.13\n",
      "wcwidth                  0.2.6\n",
      "webcolors                1.13\n",
      "webencodings             0.5.1\n",
      "websocket-client         1.5.1\n",
      "widgetsnbextension       4.0.7\n",
      "Note: you may need to restart the kernel to use updated packages.\n"
     ]
    }
   ],
   "source": [
    "pip list"
   ]
  },
  {
   "cell_type": "markdown",
   "id": "ac573806",
   "metadata": {
    "slideshow": {
     "slide_type": "subslide"
    }
   },
   "source": [
    "Dobrą praktyką jest stworzenie pliku z listą zależności wymaganych do uruchomienia projektu. Najprostszą metodą jest wykonanie polecenia:"
   ]
  },
  {
   "cell_type": "code",
   "execution_count": 40,
   "id": "83d3f489",
   "metadata": {
    "slideshow": {
     "slide_type": "fragment"
    }
   },
   "outputs": [
    {
     "name": "stdout",
     "output_type": "stream",
     "text": [
      "Note: you may need to restart the kernel to use updated packages.\n"
     ]
    }
   ],
   "source": [
    "pip freeze > requirements.txt"
   ]
  },
  {
   "cell_type": "markdown",
   "id": "6f5f3bc7",
   "metadata": {
    "slideshow": {
     "slide_type": "fragment"
    }
   },
   "source": [
    "Zapisze ono wszystkie biblioteki wraz z dokładnymi ich wersjami do pliku o nazwie `requirements.txt`. Nazwa tego pliku jest pewnego rodzaju konwencją, którą można spotkać w wielu projektach."
   ]
  },
  {
   "cell_type": "markdown",
   "id": "93dbdbca",
   "metadata": {
    "slideshow": {
     "slide_type": "subslide"
    }
   },
   "source": [
    "Zaglądnijmy więc do pliku `requirements.txt`:"
   ]
  },
  {
   "cell_type": "code",
   "execution_count": 41,
   "id": "b7900292",
   "metadata": {
    "slideshow": {
     "slide_type": "fragment"
    }
   },
   "outputs": [
    {
     "name": "stdout",
     "output_type": "stream",
     "text": [
      "anyio==3.6.2\r\n",
      "appnope==0.1.3\r\n",
      "argon2-cffi==21.3.0\r\n",
      "argon2-cffi-bindings==21.2.0\r\n",
      "arrow==1.2.3\r\n",
      "asgiref==3.6.0\r\n",
      "asttokens==2.2.1\r\n",
      "attrs==22.2.0\r\n",
      "backcall==0.2.0\r\n",
      "beautifulsoup4==4.12.1\r\n",
      "bleach==6.0.0\r\n",
      "certifi==2022.12.7\r\n",
      "cffi==1.15.1\r\n",
      "charset-normalizer==3.1.0\r\n",
      "comm==0.1.3\r\n",
      "debugpy==1.6.7\r\n",
      "decorator==5.1.1\r\n",
      "defusedxml==0.7.1\r\n",
      "Django==4.2.1\r\n",
      "executing==1.2.0\r\n",
      "fastjsonschema==2.16.3\r\n",
      "fqdn==1.5.1\r\n",
      "idna==3.4\r\n",
      "ipykernel==6.22.0\r\n",
      "ipython==8.12.0\r\n",
      "ipython-genutils==0.2.0\r\n",
      "ipywidgets==8.0.6\r\n",
      "isoduration==20.11.0\r\n",
      "jedi==0.18.2\r\n",
      "Jinja2==3.1.2\r\n",
      "jsonpointer==2.3\r\n",
      "jsonschema==4.17.3\r\n",
      "jupyter==1.0.0\r\n",
      "jupyter-console==6.6.3\r\n",
      "jupyter-events==0.6.3\r\n",
      "jupyter_client==8.1.0\r\n",
      "jupyter_core==5.3.0\r\n",
      "jupyter_server==2.5.0\r\n",
      "jupyter_server_terminals==0.4.4\r\n",
      "jupyterlab-pygments==0.2.2\r\n",
      "jupyterlab-widgets==3.0.7\r\n",
      "MarkupSafe==2.1.2\r\n",
      "matplotlib-inline==0.1.6\r\n",
      "mistune==2.0.5\r\n",
      "nbclassic==0.5.5\r\n",
      "nbclient==0.7.3\r\n",
      "nbconvert==7.3.0\r\n",
      "nbformat==5.8.0\r\n",
      "nest-asyncio==1.5.6\r\n",
      "notebook==6.5.4\r\n",
      "notebook_shim==0.2.2\r\n",
      "numpy==1.24.1\r\n",
      "opencv-python==4.7.0.68\r\n",
      "packaging==23.0\r\n",
      "Panda3D==1.10.13\r\n",
      "panda3d-gltf==0.13\r\n",
      "panda3d-simplepbr==0.10\r\n",
      "pandocfilters==1.5.0\r\n",
      "parso==0.8.3\r\n",
      "pexpect==4.8.0\r\n",
      "pickleshare==0.7.5\r\n",
      "platformdirs==3.2.0\r\n",
      "prometheus-client==0.16.0\r\n",
      "prompt-toolkit==3.0.38\r\n",
      "psutil==5.9.4\r\n",
      "ptyprocess==0.7.0\r\n",
      "pure-eval==0.2.2\r\n",
      "pycparser==2.21\r\n",
      "Pygments==2.14.0\r\n",
      "pyrsistent==0.19.3\r\n",
      "python-dateutil==2.8.2\r\n",
      "python-json-logger==2.0.7\r\n",
      "pytz==2022.7\r\n",
      "PyYAML==6.0\r\n",
      "pyzmq==25.0.2\r\n",
      "qtconsole==5.4.2\r\n",
      "QtPy==2.3.1\r\n",
      "requests==2.29.0\r\n",
      "rfc3339-validator==0.1.4\r\n",
      "rfc3986-validator==0.1.1\r\n",
      "rise==5.7.1\r\n",
      "Send2Trash==1.8.0\r\n",
      "six==1.16.0\r\n",
      "slicerator==1.1.0\r\n",
      "sniffio==1.3.0\r\n",
      "soupsieve==2.4\r\n",
      "sqlparse==0.4.4\r\n",
      "stack-data==0.6.2\r\n",
      "terminado==0.17.1\r\n",
      "tinycss2==1.2.1\r\n",
      "tornado==6.2\r\n",
      "traitlets==5.9.0\r\n",
      "uri-template==1.2.0\r\n",
      "urllib3==1.26.13\r\n",
      "wcwidth==0.2.6\r\n",
      "webcolors==1.13\r\n",
      "webencodings==0.5.1\r\n",
      "websocket-client==1.5.1\r\n",
      "widgetsnbextension==4.0.7\r\n"
     ]
    }
   ],
   "source": [
    "!cat requirements.txt"
   ]
  },
  {
   "cell_type": "markdown",
   "id": "d3c07216",
   "metadata": {
    "slideshow": {
     "slide_type": "subslide"
    }
   },
   "source": [
    "Jak widać, lista jest trochę krótsza niż wynik działania `pip list`. Nie znajdziemy tutaj pakietów `pip` oraz `setuptools`, bo są one niejako \"wbudowane\" w instalacje Pythona i wymagane do przeprowadzenia jakichkolwiek instalacji pakietów."
   ]
  },
  {
   "cell_type": "markdown",
   "id": "4b3b55c9",
   "metadata": {
    "slideshow": {
     "slide_type": "fragment"
    }
   },
   "source": [
    "Gdybyśmy teraz chcieli na innym komputerze zainstalować wymagane przez nasz projekt pakiety wykonujemy polecenie:"
   ]
  },
  {
   "cell_type": "code",
   "execution_count": 42,
   "id": "abadefa4",
   "metadata": {
    "slideshow": {
     "slide_type": "fragment"
    }
   },
   "outputs": [
    {
     "name": "stdout",
     "output_type": "stream",
     "text": [
      "Requirement already satisfied: asgiref==3.6.0 in /Library/Frameworks/Python.framework/Versions/3.11/lib/python3.11/site-packages (from -r requirements.txt (line 1)) (3.6.0)\n",
      "Requirement already satisfied: Django==4.2.1 in /Library/Frameworks/Python.framework/Versions/3.11/lib/python3.11/site-packages (from -r requirements.txt (line 2)) (4.2.1)\n",
      "Requirement already satisfied: sqlparse==0.4.4 in /Library/Frameworks/Python.framework/Versions/3.11/lib/python3.11/site-packages (from -r requirements.txt (line 3)) (0.4.4)\n",
      "Note: you may need to restart the kernel to use updated packages.\n"
     ]
    }
   ],
   "source": [
    "pip install -r requirements.txt"
   ]
  },
  {
   "cell_type": "markdown",
   "id": "675d4a6a",
   "metadata": {
    "slideshow": {
     "slide_type": "subslide"
    }
   },
   "source": [
    "To polecenie przeczyta sobie plik i zainstaluje pakiety dokładnie w takich wersjach jak wcześniej zostały zapisane."
   ]
  },
  {
   "cell_type": "markdown",
   "id": "f6747175",
   "metadata": {
    "slideshow": {
     "slide_type": "fragment"
    }
   },
   "source": [
    "Oczywiście istnieją sposoby na określanie zakresów wersji pakietów, można też w ogóle nie pisać wymaganej wersji. Tego jednak nie polecam, wraz z biegiem czasu może się okazać, że nasz projekt nie działa z najnowszą biblioteki XYZ albo nie współpracuje z innym wymaganym pakietem."
   ]
  },
  {
   "cell_type": "markdown",
   "id": "5d0679c7",
   "metadata": {
    "slideshow": {
     "slide_type": "fragment"
    }
   },
   "source": [
    "Dla świętego spokoju warto wiec określać wersję narzędzi w miarę dokładnie."
   ]
  },
  {
   "cell_type": "code",
   "execution_count": null,
   "id": "050100d2",
   "metadata": {
    "slideshow": {
     "slide_type": "skip"
    }
   },
   "outputs": [],
   "source": []
  }
 ],
 "metadata": {
  "celltoolbar": "Slideshow",
  "kernelspec": {
   "display_name": "Python 3 (ipykernel)",
   "language": "python",
   "name": "python3"
  },
  "language_info": {
   "codemirror_mode": {
    "name": "ipython",
    "version": 3
   },
   "file_extension": ".py",
   "mimetype": "text/x-python",
   "name": "python",
   "nbconvert_exporter": "python",
   "pygments_lexer": "ipython3",
   "version": "3.11.3"
  }
 },
 "nbformat": 4,
 "nbformat_minor": 5
}
